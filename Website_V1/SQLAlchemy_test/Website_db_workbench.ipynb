{
 "cells": [
  {
   "cell_type": "code",
   "execution_count": 1,
   "metadata": {},
   "outputs": [],
   "source": [
    "from sqlalchemy import create_engine,  MetaData\n",
    "from sqlalchemy.ext.declarative import declarative_base\n",
    "from sqlalchemy.orm import sessionmaker\n",
    "\n",
    "Base = declarative_base()\n",
    "engine = create_engine('sqlite:///testSQLAlchemy.db', echo=False, \n",
    "\t\t\t\t\t\tconnect_args={'check_same_thread':False})\n",
    "metadata_obj = MetaData()\n",
    "Session = sessionmaker(bind=engine)\n",
    "\n",
    "session = Session()"
   ]
  },
  {
   "cell_type": "code",
   "execution_count": 2,
   "metadata": {},
   "outputs": [],
   "source": [
    "from sqlalchemy import Column, String, Integer, ForeignKey\n",
    "from sqlalchemy.orm import relationship\n",
    "\n",
    "class SubjectGroup(Base):\n",
    "\t__tablename__ = \"subject_group\"\n",
    "\n",
    "\tgroup_id     = Column(Integer, autoincrement=True, primary_key=True)\n",
    "\tdescription  = Column(String)\n",
    "\trepositories = Column(String)\n",
    "\n",
    "\tprojects     = relationship(\"Projects\")\n",
    "\n",
    "\t# def __repr__(self):\n",
    "\t# \treturn f\"{group_id}\"\n",
    "\n",
    "\n",
    "class Projects(Base):\n",
    "\t__tablename__ = \"projects\"\n",
    "\n",
    "\taccession_code     = Column(String, primary_key=True)\n",
    "\tgroup_id           = Column(Integer, ForeignKey(\"subject_group.group_id\"))\n",
    "\tproject_title      = Column(String)\n",
    "\tinstitution_ID     = Column(Integer, ForeignKey(\"institutions.institution_ID\"))\n",
    "\n",
    "\t# processing_type_ID = Column(Integer, )\n",
    "\t# protocol_ID        = Column(Integer, )\n",
    "\t# data_processing_ID = Column(Integer, )\n",
    "\t# repository_ID      = Column(Integer, )\n",
    "\t# repository_url     = Column(String, )\n",
    "\n",
    "\t# group_ID           = Column(Integer, )\n",
    "\n",
    "class Institutions(Base):\n",
    "\t__tablename__ = \"institutions\"\n",
    "\t\n",
    "\tinstitution_ID = Column(Integer, autoincrement=True, primary_key=True)\n",
    "\tprojects       = relationship(\"Projects\")\n",
    "\t\n",
    "\tinst_name      = Column(String)\n",
    "\taddress\t\t   = Column(String)\n",
    "\n",
    "\t\n",
    "# always initialise with create_all\n",
    "Base.metadata.create_all(engine)\n"
   ]
  },
  {
   "cell_type": "code",
   "execution_count": 10,
   "metadata": {},
   "outputs": [
    {
     "name": "stdout",
     "output_type": "stream",
     "text": [
      "1  -  Male Surrey\n",
      "2  -  Female Surrey\n",
      "3  -  Health Workers\n",
      "4  -  Elder subjects\n",
      "5  -  Liverpool group\n",
      "6  -  Male London\n",
      "7  -  Subjects over 80\n",
      "8  -  Health Workers 40\n",
      "9  -  Liverpool group\n",
      "10  -  Elder subjects\n",
      "11  -  Male Surrey\n",
      "12  -  Female Surrey\n",
      "13  -  Male London\n",
      "14  -  Health Workers 40\n",
      "15  -  Health Workers\n",
      "16  -  Subjects over 80\n",
      "17  -  Subjects over 80\n",
      "18  -  Male London\n",
      "19  -  Health Workers\n",
      "20  -  Elder subjects\n",
      "21  -  Female Surrey\n",
      "22  -  Liverpool group\n",
      "23  -  Health Workers 40\n",
      "24  -  Male Surrey\n",
      "25  -  Liverpool group\n",
      "26  -  Male Surrey\n",
      "27  -  Male London\n",
      "28  -  Health Workers\n",
      "29  -  Elder subjects\n"
     ]
    }
   ],
   "source": [
    "import random\n",
    "\n",
    "subjectgroup_description =['Male London', 'Female Surrey', 'Health Workers', 'Elder subjects', \n",
    "                           'Liverpool group', 'Subjects over 80', 'Male Surrey', 'Health Workers 40']\n",
    "past=[]\n",
    "for i in range(1,30):\n",
    "    new_rand = True\n",
    "    if len(past) == len(subjectgroup_description): past = []\n",
    "    while new_rand:\n",
    "        rand_desc = random.choice(subjectgroup_description)\n",
    "        if (rand_desc not in past):\n",
    "            past.append(rand_desc)\n",
    "            print(i,' - ',rand_desc)\n",
    "            new_rand = False\n",
    "    \n"
   ]
  },
  {
   "cell_type": "code",
   "execution_count": 7,
   "metadata": {},
   "outputs": [
    {
     "name": "stdout",
     "output_type": "stream",
     "text": [
      "54\n",
      "93\n",
      "155\n",
      "266\n",
      "153\n",
      "298\n",
      "184\n",
      "174\n",
      "78\n",
      "369\n"
     ]
    }
   ],
   "source": [
    "import random\n",
    "\n",
    "a=random.sample(range(50,400),10)\n",
    "for i in a:\n",
    "    print(i)"
   ]
  },
  {
   "cell_type": "code",
   "execution_count": 9,
   "metadata": {},
   "outputs": [
    {
     "data": {
      "text/plain": [
       "5"
      ]
     },
     "execution_count": 9,
     "metadata": {},
     "output_type": "execute_result"
    }
   ],
   "source": [
    "random.randint(1,5)"
   ]
  },
  {
   "cell_type": "code",
   "execution_count": 13,
   "metadata": {},
   "outputs": [
    {
     "name": "stdout",
     "output_type": "stream",
     "text": [
      "yes\n"
     ]
    }
   ],
   "source": [
    "a='Proteomics'\n",
    "if 'proteomic' in a.lower(): print('yes')"
   ]
  },
  {
   "cell_type": "code",
   "execution_count": 16,
   "metadata": {},
   "outputs": [
    {
     "name": "stdout",
     "output_type": "stream",
     "text": [
      "2\n"
     ]
    }
   ],
   "source": [
    "def select_repository(target_string):\n",
    "    if 'proteomic'   in target_string.lower(): return 1\n",
    "    if 'metabolomic' in target_string.lower(): return 2\n",
    "    if 'lipodomic'   in target_string.lower(): return 3\n",
    "\n",
    "a='Metabolomics'\n",
    "print(select_repository(a))"
   ]
  },
  {
   "cell_type": "code",
   "execution_count": 20,
   "metadata": {},
   "outputs": [
    {
     "name": "stdout",
     "output_type": "stream",
     "text": [
      "['#MSC0', '#MSC1', '#MSC2', '#MSC3', '#MSC4', '#MSC5', '#MSC6', '#MSC7', '#MSC8', '#MSC9']\n"
     ]
    }
   ],
   "source": [
    "n_records = 10\n",
    "accession_code     = [\"#MSC\"+str(i) for i in range(n_records)]\n",
    "print(accession_code)"
   ]
  },
  {
   "cell_type": "code",
   "execution_count": 22,
   "metadata": {},
   "outputs": [
    {
     "name": "stdout",
     "output_type": "stream",
     "text": [
      "[3, 1, 2]\n"
     ]
    }
   ],
   "source": [
    "b=['lipodomic','proteomics','metabolomic']\n",
    "print([select_repository(i) for i in b])"
   ]
  },
  {
   "cell_type": "code",
   "execution_count": 1,
   "metadata": {},
   "outputs": [
    {
     "data": {
      "text/plain": [
       "2"
      ]
     },
     "execution_count": 1,
     "metadata": {},
     "output_type": "execute_result"
    }
   ],
   "source": [
    "import random\n",
    "random.randint(1,5)"
   ]
  },
  {
   "cell_type": "code",
   "execution_count": 2,
   "metadata": {},
   "outputs": [
    {
     "data": {
      "text/plain": [
       "[295,\n",
       " 192,\n",
       " 283,\n",
       " 251,\n",
       " 309,\n",
       " 39,\n",
       " 1,\n",
       " 299,\n",
       " 411,\n",
       " 472,\n",
       " 266,\n",
       " 40,\n",
       " 32,\n",
       " 438,\n",
       " 17,\n",
       " 420,\n",
       " 216,\n",
       " 80,\n",
       " 132,\n",
       " 497,\n",
       " 12,\n",
       " 85,\n",
       " 254,\n",
       " 387,\n",
       " 330,\n",
       " 259,\n",
       " 24,\n",
       " 238,\n",
       " 127,\n",
       " 326]"
      ]
     },
     "execution_count": 2,
     "metadata": {},
     "output_type": "execute_result"
    }
   ],
   "source": [
    "n_subjects = 30\n",
    "subj_id = random.sample(range(1, 500), n_subjects)\n",
    "subj_id"
   ]
  },
  {
   "cell_type": "code",
   "execution_count": 3,
   "metadata": {},
   "outputs": [
    {
     "ename": "SyntaxError",
     "evalue": "invalid syntax (<ipython-input-3-5ff4a92bb5b8>, line 2)",
     "output_type": "error",
     "traceback": [
      "\u001b[1;36m  File \u001b[1;32m\"<ipython-input-3-5ff4a92bb5b8>\"\u001b[1;36m, line \u001b[1;32m2\u001b[0m\n\u001b[1;33m    b=**a\u001b[0m\n\u001b[1;37m      ^\u001b[0m\n\u001b[1;31mSyntaxError\u001b[0m\u001b[1;31m:\u001b[0m invalid syntax\n"
     ]
    }
   ],
   "source": [
    "a={'1' : 1, '2' : 2, '3' : 3}\n",
    "b=**a"
   ]
  },
  {
   "cell_type": "code",
   "execution_count": null,
   "metadata": {},
   "outputs": [],
   "source": []
  }
 ],
 "metadata": {
  "kernelspec": {
   "display_name": "Python 3",
   "language": "python",
   "name": "python3"
  },
  "language_info": {
   "codemirror_mode": {
    "name": "ipython",
    "version": 3
   },
   "file_extension": ".py",
   "mimetype": "text/x-python",
   "name": "python",
   "nbconvert_exporter": "python",
   "pygments_lexer": "ipython3",
   "version": "3.8.5"
  }
 },
 "nbformat": 4,
 "nbformat_minor": 4
}
