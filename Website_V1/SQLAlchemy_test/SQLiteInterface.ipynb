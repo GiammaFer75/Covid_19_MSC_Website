{
 "cells": [
  {
   "cell_type": "markdown",
   "metadata": {},
   "source": [
    "## Interface to manipulate SQLite Database"
   ]
  },
  {
   "cell_type": "markdown",
   "metadata": {},
   "source": [
    "Object Relational Tutorial (1.x API) <br>\n",
    "https://docs.sqlalchemy.org/en/14/orm/tutorial.html"
   ]
  },
  {
   "cell_type": "code",
   "execution_count": 1,
   "metadata": {},
   "outputs": [
    {
     "data": {
      "text/plain": [
       "'1.4.41'"
      ]
     },
     "execution_count": 1,
     "metadata": {},
     "output_type": "execute_result"
    }
   ],
   "source": [
    "import sqlalchemy\n",
    "sqlalchemy.__version__"
   ]
  },
  {
   "cell_type": "markdown",
   "metadata": {},
   "source": [
    "## Connecting"
   ]
  },
  {
   "cell_type": "code",
   "execution_count": 75,
   "metadata": {},
   "outputs": [],
   "source": [
    "from sqlalchemy import create_engine\n",
    "engine = create_engine(\"sqlite:///:memory:\", echo=True)"
   ]
  },
  {
   "cell_type": "markdown",
   "metadata": {},
   "source": [
    "## Declare Mapping"
   ]
  },
  {
   "cell_type": "code",
   "execution_count": 76,
   "metadata": {},
   "outputs": [],
   "source": [
    "from sqlalchemy.orm import declarative_base\n",
    "Base = declarative_base()"
   ]
  },
  {
   "cell_type": "code",
   "execution_count": 77,
   "metadata": {},
   "outputs": [],
   "source": [
    "from sqlalchemy import Column, Integer, String\n",
    "class User(Base):\n",
    "    __tablename__ = \"users\"\n",
    "\n",
    "    id = Column(Integer, primary_key=True)\n",
    "    name = Column(String)\n",
    "    fullname = Column(String)\n",
    "    nickname = Column(String)\n",
    "\n",
    "    def __repr__(self):\n",
    "        return \"<User(name='%s', fullname='%s', nickname='%s')>\" % (\n",
    "             self.name,\n",
    "             self.fullname,\n",
    "             self.nickname,\n",
    "         )"
   ]
  },
  {
   "cell_type": "markdown",
   "metadata": {},
   "source": [
    "## Create a Schema"
   ]
  },
  {
   "cell_type": "code",
   "execution_count": 78,
   "metadata": {},
   "outputs": [
    {
     "data": {
      "text/plain": [
       "Table('users', MetaData(), Column('id', Integer(), table=<users>, primary_key=True, nullable=False), Column('name', String(), table=<users>), Column('fullname', String(), table=<users>), Column('nickname', String(), table=<users>), schema=None)"
      ]
     },
     "execution_count": 78,
     "metadata": {},
     "output_type": "execute_result"
    }
   ],
   "source": [
    "User.__table__"
   ]
  },
  {
   "cell_type": "code",
   "execution_count": 79,
   "metadata": {},
   "outputs": [
    {
     "name": "stdout",
     "output_type": "stream",
     "text": [
      "2022-10-10 19:50:44,647 INFO sqlalchemy.engine.Engine BEGIN (implicit)\n",
      "2022-10-10 19:50:44,650 INFO sqlalchemy.engine.Engine PRAGMA main.table_info(\"users\")\n",
      "2022-10-10 19:50:44,652 INFO sqlalchemy.engine.Engine [raw sql] ()\n",
      "2022-10-10 19:50:44,654 INFO sqlalchemy.engine.Engine PRAGMA temp.table_info(\"users\")\n",
      "2022-10-10 19:50:44,656 INFO sqlalchemy.engine.Engine [raw sql] ()\n",
      "2022-10-10 19:50:44,659 INFO sqlalchemy.engine.Engine \n",
      "CREATE TABLE users (\n",
      "\tid INTEGER NOT NULL, \n",
      "\tname VARCHAR, \n",
      "\tfullname VARCHAR, \n",
      "\tnickname VARCHAR, \n",
      "\tPRIMARY KEY (id)\n",
      ")\n",
      "\n",
      "\n",
      "2022-10-10 19:50:44,660 INFO sqlalchemy.engine.Engine [no key 0.00134s] ()\n",
      "2022-10-10 19:50:44,663 INFO sqlalchemy.engine.Engine COMMIT\n"
     ]
    }
   ],
   "source": [
    "Base.metadata.create_all(engine)"
   ]
  },
  {
   "cell_type": "markdown",
   "metadata": {},
   "source": [
    "## Create an Instance of the Mapped Class"
   ]
  },
  {
   "cell_type": "code",
   "execution_count": 7,
   "metadata": {},
   "outputs": [],
   "source": [
    "user_t=User(name=\"ed\", fullname=\"Ed Jones\", nickname=\"edsnickname\")"
   ]
  },
  {
   "cell_type": "code",
   "execution_count": 8,
   "metadata": {},
   "outputs": [
    {
     "data": {
      "text/plain": [
       "'ed'"
      ]
     },
     "execution_count": 8,
     "metadata": {},
     "output_type": "execute_result"
    }
   ],
   "source": [
    "user_t.name"
   ]
  },
  {
   "cell_type": "markdown",
   "metadata": {},
   "source": [
    "## Creating a Session"
   ]
  },
  {
   "cell_type": "code",
   "execution_count": 9,
   "metadata": {},
   "outputs": [],
   "source": [
    "from sqlalchemy.orm import sessionmaker\n",
    "Session = sessionmaker(bind=engine)"
   ]
  },
  {
   "cell_type": "code",
   "execution_count": 10,
   "metadata": {},
   "outputs": [],
   "source": [
    "session = Session()"
   ]
  },
  {
   "cell_type": "markdown",
   "metadata": {},
   "source": [
    "## Adding and Updating Objects"
   ]
  },
  {
   "cell_type": "code",
   "execution_count": 12,
   "metadata": {},
   "outputs": [
    {
     "data": {
      "text/plain": [
       "<User(name='ed', fullname='Ed Jones', nickname='edsnickname')>"
      ]
     },
     "execution_count": 12,
     "metadata": {},
     "output_type": "execute_result"
    }
   ],
   "source": [
    "new_user = User(name=\"ed\", fullname=\"Ed Jones\", nickname=\"edsnickname\")\n",
    "new_user"
   ]
  },
  {
   "cell_type": "code",
   "execution_count": 13,
   "metadata": {},
   "outputs": [],
   "source": [
    "session.add(new_user)"
   ]
  },
  {
   "cell_type": "code",
   "execution_count": 14,
   "metadata": {},
   "outputs": [
    {
     "name": "stdout",
     "output_type": "stream",
     "text": [
      "2022-10-07 17:23:08,101 INFO sqlalchemy.engine.Engine BEGIN (implicit)\n",
      "2022-10-07 17:23:08,111 INFO sqlalchemy.engine.Engine INSERT INTO users (name, fullname, nickname) VALUES (?, ?, ?)\n",
      "2022-10-07 17:23:08,111 INFO sqlalchemy.engine.Engine [generated in 0.00378s] ('ed', 'Ed Jones', 'edsnickname')\n",
      "2022-10-07 17:23:08,111 INFO sqlalchemy.engine.Engine SELECT users.id AS users_id, users.name AS users_name, users.fullname AS users_fullname, users.nickname AS users_nickname \n",
      "FROM users \n",
      "WHERE users.name = ?\n",
      " LIMIT ? OFFSET ?\n",
      "2022-10-07 17:23:08,121 INFO sqlalchemy.engine.Engine [generated in 0.00129s] ('ed', 1, 0)\n"
     ]
    }
   ],
   "source": [
    "our_user = (\n",
    "...     session.query(User).filter_by(name=\"ed\").first()\n",
    "... )"
   ]
  },
  {
   "cell_type": "code",
   "execution_count": 15,
   "metadata": {},
   "outputs": [
    {
     "data": {
      "text/plain": [
       "<User(name='ed', fullname='Ed Jones', nickname='edsnickname')>"
      ]
     },
     "execution_count": 15,
     "metadata": {},
     "output_type": "execute_result"
    }
   ],
   "source": [
    "our_user"
   ]
  },
  {
   "cell_type": "code",
   "execution_count": 16,
   "metadata": {},
   "outputs": [],
   "source": [
    "session.add_all(\n",
    "...     [\n",
    "...         User(name=\"wendy\", fullname=\"Wendy Williams\", nickname=\"windy\"),\n",
    "...         User(name=\"mary\", fullname=\"Mary Contrary\", nickname=\"mary\"),\n",
    "...         User(name=\"fred\", fullname=\"Fred Flintstone\", nickname=\"freddy\"),\n",
    "...     ]\n",
    "... )"
   ]
  },
  {
   "cell_type": "markdown",
   "metadata": {},
   "source": [
    "-----------------------------------------------------------------------------------------------------------"
   ]
  },
  {
   "cell_type": "markdown",
   "metadata": {},
   "source": [
    "## SQLAlchemy — Python Tutorial \n",
    "<br> https://towardsdatascience.com/sqlalchemy-python-tutorial-79a577141a91"
   ]
  },
  {
   "cell_type": "code",
   "execution_count": 1,
   "metadata": {},
   "outputs": [],
   "source": [
    "import sqlalchemy as db"
   ]
  },
  {
   "cell_type": "code",
   "execution_count": 3,
   "metadata": {},
   "outputs": [],
   "source": [
    "engine = db.create_engine('sqlite:///:memory:')\n",
    "connection = engine.connect()\n"
   ]
  },
  {
   "cell_type": "code",
   "execution_count": 5,
   "metadata": {},
   "outputs": [
    {
     "data": {
      "text/plain": [
       "MetaData()"
      ]
     },
     "execution_count": 5,
     "metadata": {},
     "output_type": "execute_result"
    }
   ],
   "source": [
    "metadata = db.MetaData()\n",
    "metadata"
   ]
  },
  {
   "cell_type": "code",
   "execution_count": 6,
   "metadata": {
    "collapsed": true,
    "jupyter": {
     "outputs_hidden": true
    }
   },
   "outputs": [
    {
     "ename": "NoSuchTableError",
     "evalue": "census",
     "output_type": "error",
     "traceback": [
      "\u001b[1;31m---------------------------------------------------------------------------\u001b[0m",
      "\u001b[1;31mNoSuchTableError\u001b[0m                          Traceback (most recent call last)",
      "\u001b[1;32m<ipython-input-6-c8eb106b5bea>\u001b[0m in \u001b[0;36m<module>\u001b[1;34m\u001b[0m\n\u001b[1;32m----> 1\u001b[1;33m \u001b[0mcensus\u001b[0m \u001b[1;33m=\u001b[0m \u001b[0mdb\u001b[0m\u001b[1;33m.\u001b[0m\u001b[0mTable\u001b[0m\u001b[1;33m(\u001b[0m\u001b[1;34m'census'\u001b[0m\u001b[1;33m,\u001b[0m \u001b[0mmetadata\u001b[0m\u001b[1;33m,\u001b[0m \u001b[0mautoload\u001b[0m\u001b[1;33m=\u001b[0m\u001b[1;32mTrue\u001b[0m\u001b[1;33m,\u001b[0m \u001b[0mautoload_with\u001b[0m\u001b[1;33m=\u001b[0m\u001b[0mengine\u001b[0m\u001b[1;33m)\u001b[0m\u001b[1;33m\u001b[0m\u001b[1;33m\u001b[0m\u001b[0m\n\u001b[0m",
      "\u001b[1;32m<string>\u001b[0m in \u001b[0;36m__new__\u001b[1;34m(cls, *args, **kw)\u001b[0m\n",
      "\u001b[1;32m~\\anaconda3\\lib\\site-packages\\sqlalchemy\\util\\deprecations.py\u001b[0m in \u001b[0;36mwarned\u001b[1;34m(fn, *args, **kwargs)\u001b[0m\n\u001b[0;32m    307\u001b[0m                         \u001b[0mstacklevel\u001b[0m\u001b[1;33m=\u001b[0m\u001b[1;36m3\u001b[0m\u001b[1;33m,\u001b[0m\u001b[1;33m\u001b[0m\u001b[1;33m\u001b[0m\u001b[0m\n\u001b[0;32m    308\u001b[0m                     )\n\u001b[1;32m--> 309\u001b[1;33m             \u001b[1;32mreturn\u001b[0m \u001b[0mfn\u001b[0m\u001b[1;33m(\u001b[0m\u001b[1;33m*\u001b[0m\u001b[0margs\u001b[0m\u001b[1;33m,\u001b[0m \u001b[1;33m**\u001b[0m\u001b[0mkwargs\u001b[0m\u001b[1;33m)\u001b[0m\u001b[1;33m\u001b[0m\u001b[1;33m\u001b[0m\u001b[0m\n\u001b[0m\u001b[0;32m    310\u001b[0m \u001b[1;33m\u001b[0m\u001b[0m\n\u001b[0;32m    311\u001b[0m         \u001b[0mdoc\u001b[0m \u001b[1;33m=\u001b[0m \u001b[0mfn\u001b[0m\u001b[1;33m.\u001b[0m\u001b[0m__doc__\u001b[0m \u001b[1;32mis\u001b[0m \u001b[1;32mnot\u001b[0m \u001b[1;32mNone\u001b[0m \u001b[1;32mand\u001b[0m \u001b[0mfn\u001b[0m\u001b[1;33m.\u001b[0m\u001b[0m__doc__\u001b[0m \u001b[1;32mor\u001b[0m \u001b[1;34m\"\"\u001b[0m\u001b[1;33m\u001b[0m\u001b[1;33m\u001b[0m\u001b[0m\n",
      "\u001b[1;32m~\\anaconda3\\lib\\site-packages\\sqlalchemy\\sql\\schema.py\u001b[0m in \u001b[0;36m__new__\u001b[1;34m(cls, *args, **kw)\u001b[0m\n\u001b[0;32m    615\u001b[0m             \u001b[1;32mexcept\u001b[0m \u001b[0mException\u001b[0m\u001b[1;33m:\u001b[0m\u001b[1;33m\u001b[0m\u001b[1;33m\u001b[0m\u001b[0m\n\u001b[0;32m    616\u001b[0m                 \u001b[1;32mwith\u001b[0m \u001b[0mutil\u001b[0m\u001b[1;33m.\u001b[0m\u001b[0msafe_reraise\u001b[0m\u001b[1;33m(\u001b[0m\u001b[1;33m)\u001b[0m\u001b[1;33m:\u001b[0m\u001b[1;33m\u001b[0m\u001b[1;33m\u001b[0m\u001b[0m\n\u001b[1;32m--> 617\u001b[1;33m                     \u001b[0mmetadata\u001b[0m\u001b[1;33m.\u001b[0m\u001b[0m_remove_table\u001b[0m\u001b[1;33m(\u001b[0m\u001b[0mname\u001b[0m\u001b[1;33m,\u001b[0m \u001b[0mschema\u001b[0m\u001b[1;33m)\u001b[0m\u001b[1;33m\u001b[0m\u001b[1;33m\u001b[0m\u001b[0m\n\u001b[0m\u001b[0;32m    618\u001b[0m \u001b[1;33m\u001b[0m\u001b[0m\n\u001b[0;32m    619\u001b[0m     \u001b[1;32mdef\u001b[0m \u001b[0m__init__\u001b[0m\u001b[1;33m(\u001b[0m\u001b[0mself\u001b[0m\u001b[1;33m,\u001b[0m \u001b[1;33m*\u001b[0m\u001b[0margs\u001b[0m\u001b[1;33m,\u001b[0m \u001b[1;33m**\u001b[0m\u001b[0mkw\u001b[0m\u001b[1;33m)\u001b[0m\u001b[1;33m:\u001b[0m\u001b[1;33m\u001b[0m\u001b[1;33m\u001b[0m\u001b[0m\n",
      "\u001b[1;32m~\\anaconda3\\lib\\site-packages\\sqlalchemy\\util\\langhelpers.py\u001b[0m in \u001b[0;36m__exit__\u001b[1;34m(self, type_, value, traceback)\u001b[0m\n\u001b[0;32m     68\u001b[0m             \u001b[0mself\u001b[0m\u001b[1;33m.\u001b[0m\u001b[0m_exc_info\u001b[0m \u001b[1;33m=\u001b[0m \u001b[1;32mNone\u001b[0m  \u001b[1;31m# remove potential circular references\u001b[0m\u001b[1;33m\u001b[0m\u001b[1;33m\u001b[0m\u001b[0m\n\u001b[0;32m     69\u001b[0m             \u001b[1;32mif\u001b[0m \u001b[1;32mnot\u001b[0m \u001b[0mself\u001b[0m\u001b[1;33m.\u001b[0m\u001b[0mwarn_only\u001b[0m\u001b[1;33m:\u001b[0m\u001b[1;33m\u001b[0m\u001b[1;33m\u001b[0m\u001b[0m\n\u001b[1;32m---> 70\u001b[1;33m                 compat.raise_(\n\u001b[0m\u001b[0;32m     71\u001b[0m                     \u001b[0mexc_value\u001b[0m\u001b[1;33m,\u001b[0m\u001b[1;33m\u001b[0m\u001b[1;33m\u001b[0m\u001b[0m\n\u001b[0;32m     72\u001b[0m                     \u001b[0mwith_traceback\u001b[0m\u001b[1;33m=\u001b[0m\u001b[0mexc_tb\u001b[0m\u001b[1;33m,\u001b[0m\u001b[1;33m\u001b[0m\u001b[1;33m\u001b[0m\u001b[0m\n",
      "\u001b[1;32m~\\anaconda3\\lib\\site-packages\\sqlalchemy\\util\\compat.py\u001b[0m in \u001b[0;36mraise_\u001b[1;34m(***failed resolving arguments***)\u001b[0m\n\u001b[0;32m    206\u001b[0m \u001b[1;33m\u001b[0m\u001b[0m\n\u001b[0;32m    207\u001b[0m         \u001b[1;32mtry\u001b[0m\u001b[1;33m:\u001b[0m\u001b[1;33m\u001b[0m\u001b[1;33m\u001b[0m\u001b[0m\n\u001b[1;32m--> 208\u001b[1;33m             \u001b[1;32mraise\u001b[0m \u001b[0mexception\u001b[0m\u001b[1;33m\u001b[0m\u001b[1;33m\u001b[0m\u001b[0m\n\u001b[0m\u001b[0;32m    209\u001b[0m         \u001b[1;32mfinally\u001b[0m\u001b[1;33m:\u001b[0m\u001b[1;33m\u001b[0m\u001b[1;33m\u001b[0m\u001b[0m\n\u001b[0;32m    210\u001b[0m             \u001b[1;31m# credit to\u001b[0m\u001b[1;33m\u001b[0m\u001b[1;33m\u001b[0m\u001b[1;33m\u001b[0m\u001b[0m\n",
      "\u001b[1;32m~\\anaconda3\\lib\\site-packages\\sqlalchemy\\sql\\schema.py\u001b[0m in \u001b[0;36m__new__\u001b[1;34m(cls, *args, **kw)\u001b[0m\n\u001b[0;32m    610\u001b[0m             \u001b[0mmetadata\u001b[0m\u001b[1;33m.\u001b[0m\u001b[0m_add_table\u001b[0m\u001b[1;33m(\u001b[0m\u001b[0mname\u001b[0m\u001b[1;33m,\u001b[0m \u001b[0mschema\u001b[0m\u001b[1;33m,\u001b[0m \u001b[0mtable\u001b[0m\u001b[1;33m)\u001b[0m\u001b[1;33m\u001b[0m\u001b[1;33m\u001b[0m\u001b[0m\n\u001b[0;32m    611\u001b[0m             \u001b[1;32mtry\u001b[0m\u001b[1;33m:\u001b[0m\u001b[1;33m\u001b[0m\u001b[1;33m\u001b[0m\u001b[0m\n\u001b[1;32m--> 612\u001b[1;33m                 \u001b[0mtable\u001b[0m\u001b[1;33m.\u001b[0m\u001b[0m_init\u001b[0m\u001b[1;33m(\u001b[0m\u001b[0mname\u001b[0m\u001b[1;33m,\u001b[0m \u001b[0mmetadata\u001b[0m\u001b[1;33m,\u001b[0m \u001b[1;33m*\u001b[0m\u001b[0margs\u001b[0m\u001b[1;33m,\u001b[0m \u001b[1;33m**\u001b[0m\u001b[0mkw\u001b[0m\u001b[1;33m)\u001b[0m\u001b[1;33m\u001b[0m\u001b[1;33m\u001b[0m\u001b[0m\n\u001b[0m\u001b[0;32m    613\u001b[0m                 \u001b[0mtable\u001b[0m\u001b[1;33m.\u001b[0m\u001b[0mdispatch\u001b[0m\u001b[1;33m.\u001b[0m\u001b[0mafter_parent_attach\u001b[0m\u001b[1;33m(\u001b[0m\u001b[0mtable\u001b[0m\u001b[1;33m,\u001b[0m \u001b[0mmetadata\u001b[0m\u001b[1;33m)\u001b[0m\u001b[1;33m\u001b[0m\u001b[1;33m\u001b[0m\u001b[0m\n\u001b[0;32m    614\u001b[0m                 \u001b[1;32mreturn\u001b[0m \u001b[0mtable\u001b[0m\u001b[1;33m\u001b[0m\u001b[1;33m\u001b[0m\u001b[0m\n",
      "\u001b[1;32m~\\anaconda3\\lib\\site-packages\\sqlalchemy\\sql\\schema.py\u001b[0m in \u001b[0;36m_init\u001b[1;34m(self, name, metadata, *args, **kwargs)\u001b[0m\n\u001b[0;32m    685\u001b[0m         \u001b[1;31m# circular foreign keys\u001b[0m\u001b[1;33m\u001b[0m\u001b[1;33m\u001b[0m\u001b[1;33m\u001b[0m\u001b[0m\n\u001b[0;32m    686\u001b[0m         \u001b[1;32mif\u001b[0m \u001b[0mautoload\u001b[0m\u001b[1;33m:\u001b[0m\u001b[1;33m\u001b[0m\u001b[1;33m\u001b[0m\u001b[0m\n\u001b[1;32m--> 687\u001b[1;33m             self._autoload(\n\u001b[0m\u001b[0;32m    688\u001b[0m                 \u001b[0mmetadata\u001b[0m\u001b[1;33m,\u001b[0m\u001b[1;33m\u001b[0m\u001b[1;33m\u001b[0m\u001b[0m\n\u001b[0;32m    689\u001b[0m                 \u001b[0mautoload_with\u001b[0m\u001b[1;33m,\u001b[0m\u001b[1;33m\u001b[0m\u001b[1;33m\u001b[0m\u001b[0m\n",
      "\u001b[1;32m~\\anaconda3\\lib\\site-packages\\sqlalchemy\\sql\\schema.py\u001b[0m in \u001b[0;36m_autoload\u001b[1;34m(self, metadata, autoload_with, include_columns, exclude_columns, resolve_fks, _extend_on)\u001b[0m\n\u001b[0;32m    720\u001b[0m         \u001b[0minsp\u001b[0m \u001b[1;33m=\u001b[0m \u001b[0minspection\u001b[0m\u001b[1;33m.\u001b[0m\u001b[0minspect\u001b[0m\u001b[1;33m(\u001b[0m\u001b[0mautoload_with\u001b[0m\u001b[1;33m)\u001b[0m\u001b[1;33m\u001b[0m\u001b[1;33m\u001b[0m\u001b[0m\n\u001b[0;32m    721\u001b[0m         \u001b[1;32mwith\u001b[0m \u001b[0minsp\u001b[0m\u001b[1;33m.\u001b[0m\u001b[0m_inspection_context\u001b[0m\u001b[1;33m(\u001b[0m\u001b[1;33m)\u001b[0m \u001b[1;32mas\u001b[0m \u001b[0mconn_insp\u001b[0m\u001b[1;33m:\u001b[0m\u001b[1;33m\u001b[0m\u001b[1;33m\u001b[0m\u001b[0m\n\u001b[1;32m--> 722\u001b[1;33m             conn_insp.reflect_table(\n\u001b[0m\u001b[0;32m    723\u001b[0m                 \u001b[0mself\u001b[0m\u001b[1;33m,\u001b[0m\u001b[1;33m\u001b[0m\u001b[1;33m\u001b[0m\u001b[0m\n\u001b[0;32m    724\u001b[0m                 \u001b[0minclude_columns\u001b[0m\u001b[1;33m,\u001b[0m\u001b[1;33m\u001b[0m\u001b[1;33m\u001b[0m\u001b[0m\n",
      "\u001b[1;32m~\\anaconda3\\lib\\site-packages\\sqlalchemy\\engine\\reflection.py\u001b[0m in \u001b[0;36mreflect_table\u001b[1;34m(self, table, include_columns, exclude_columns, resolve_fks, _extend_on)\u001b[0m\n\u001b[0;32m    787\u001b[0m         \u001b[1;31m# NOTE: support tables/views with no columns\u001b[0m\u001b[1;33m\u001b[0m\u001b[1;33m\u001b[0m\u001b[1;33m\u001b[0m\u001b[0m\n\u001b[0;32m    788\u001b[0m         \u001b[1;32mif\u001b[0m \u001b[1;32mnot\u001b[0m \u001b[0mfound_table\u001b[0m \u001b[1;32mand\u001b[0m \u001b[1;32mnot\u001b[0m \u001b[0mself\u001b[0m\u001b[1;33m.\u001b[0m\u001b[0mhas_table\u001b[0m\u001b[1;33m(\u001b[0m\u001b[0mtable_name\u001b[0m\u001b[1;33m,\u001b[0m \u001b[0mschema\u001b[0m\u001b[1;33m)\u001b[0m\u001b[1;33m:\u001b[0m\u001b[1;33m\u001b[0m\u001b[1;33m\u001b[0m\u001b[0m\n\u001b[1;32m--> 789\u001b[1;33m             \u001b[1;32mraise\u001b[0m \u001b[0mexc\u001b[0m\u001b[1;33m.\u001b[0m\u001b[0mNoSuchTableError\u001b[0m\u001b[1;33m(\u001b[0m\u001b[0mtable_name\u001b[0m\u001b[1;33m)\u001b[0m\u001b[1;33m\u001b[0m\u001b[1;33m\u001b[0m\u001b[0m\n\u001b[0m\u001b[0;32m    790\u001b[0m \u001b[1;33m\u001b[0m\u001b[0m\n\u001b[0;32m    791\u001b[0m         self._reflect_pk(\n",
      "\u001b[1;31mNoSuchTableError\u001b[0m: census"
     ]
    }
   ],
   "source": [
    "census = db.Table('census', metadata, autoload=True, autoload_with=engine)"
   ]
  },
  {
   "cell_type": "markdown",
   "metadata": {},
   "source": [
    "-----------------------------------------------------------------------------------------------------------"
   ]
  },
  {
   "cell_type": "markdown",
   "metadata": {},
   "source": [
    "## Cov19_MSC"
   ]
  },
  {
   "cell_type": "markdown",
   "metadata": {},
   "source": [
    "Creating and populating a database using Python and SQLalchemy. Part 2: Classes and queries <br>\n",
    "http://www.elisander.com/programming/2015/09/08/SQLalchemy-part-2.html"
   ]
  },
  {
   "cell_type": "code",
   "execution_count": 1,
   "metadata": {},
   "outputs": [],
   "source": [
    "from sqlalchemy.ext.declarative import declarative_base\n",
    "from sqlalchemy import Column, ForeignKey, Integer, String, Float, Boolean\n",
    "# from sqlalchemy import Index\n",
    "from sqlalchemy.orm import relationship, backref, sessionmaker"
   ]
  },
  {
   "cell_type": "code",
   "execution_count": 2,
   "metadata": {},
   "outputs": [],
   "source": [
    "Base = declarative_base() # sqlalchemy class for basic table"
   ]
  },
  {
   "cell_type": "code",
   "execution_count": 3,
   "metadata": {},
   "outputs": [],
   "source": [
    "class SubjectGroup(Base): # inerhit the basic structure for sqlalchemy table\n",
    "\t__tablename__ = 'subject_group'\n",
    "\tproject_id = Column(Integer, autoincrement=True, primary_key = True)\n",
    "\tdescription = Column(String(250))\n",
    "\trepositories = Column(String(250))"
   ]
  },
  {
   "cell_type": "code",
   "execution_count": 4,
   "metadata": {},
   "outputs": [],
   "source": [
    "from sqlalchemy import create_engine\n",
    "engine = create_engine(\"sqlite:///:memory:\", echo=False)"
   ]
  },
  {
   "cell_type": "code",
   "execution_count": 5,
   "metadata": {},
   "outputs": [],
   "source": [
    "Base.metadata.create_all(engine)"
   ]
  },
  {
   "cell_type": "code",
   "execution_count": 6,
   "metadata": {},
   "outputs": [],
   "source": [
    "Session = sessionmaker(bind=engine)\n",
    "session = Session()"
   ]
  },
  {
   "cell_type": "code",
   "execution_count": 7,
   "metadata": {},
   "outputs": [],
   "source": [
    "# Generate dummy db\n",
    "descript_vect = ['Male London', 'Female Surrey', 'Health Workers', 'Elder subjects']\n",
    "repos_vect = ['PRIDE,MetaboLight', 'ZENODO', 'PRIDE,ZENODO','PRIDE,MetaboLight,ZENODO']\n",
    "for ind, desc in enumerate(descript_vect):\n",
    "    new_group = SubjectGroup(description=desc, repositories=repos_vect[ind])\n",
    "    session.add(new_group)\n",
    "    session.commit()"
   ]
  },
  {
   "cell_type": "code",
   "execution_count": 8,
   "metadata": {},
   "outputs": [],
   "source": [
    "group = session.query(SubjectGroup)"
   ]
  },
  {
   "cell_type": "code",
   "execution_count": 9,
   "metadata": {},
   "outputs": [
    {
     "name": "stdout",
     "output_type": "stream",
     "text": [
      "1 Male London PRIDE,MetaboLight\n",
      "2 Female Surrey ZENODO\n",
      "3 Health Workers PRIDE,ZENODO\n",
      "4 Elder subjects PRIDE,MetaboLight,ZENODO\n"
     ]
    }
   ],
   "source": [
    "for i in group:\n",
    "    print(i.project_id, \n",
    "          i.description,\n",
    "          i.repositories)"
   ]
  },
  {
   "cell_type": "code",
   "execution_count": 10,
   "metadata": {},
   "outputs": [
    {
     "name": "stdout",
     "output_type": "stream",
     "text": [
      "<class 'sqlalchemy.orm.query.Query'>\n",
      "SELECT subject_group.project_id AS subject_group_project_id, subject_group.description AS subject_group_description, subject_group.repositories AS subject_group_repositories \n",
      "FROM subject_group \n",
      "\n",
      "\n",
      "\n",
      "1 Male London PRIDE,MetaboLight\n",
      "2 Female Surrey ZENODO\n",
      "3 Health Workers PRIDE,ZENODO\n",
      "4 Elder subjects PRIDE,MetaboLight,ZENODO\n"
     ]
    }
   ],
   "source": [
    "g_all = group.all() #.column_descriptions\n",
    "print(type(group))\n",
    "print(group,'\\n')\n",
    "# for c in gl:\n",
    "#     print(c)\n",
    "print('\\n')\n",
    "for row in g_all:\n",
    "    print(row.project_id, \n",
    "          row.description,\n",
    "          row.repositories)\n"
   ]
  },
  {
   "cell_type": "code",
   "execution_count": 11,
   "metadata": {},
   "outputs": [
    {
     "name": "stdout",
     "output_type": "stream",
     "text": [
      "<__main__.SubjectGroup object at 0x00000000060CC2E0>\n"
     ]
    },
    {
     "data": {
      "text/plain": [
       "1"
      ]
     },
     "execution_count": 11,
     "metadata": {},
     "output_type": "execute_result"
    }
   ],
   "source": [
    "group_1 = group.filter(SubjectGroup.project_id==1).first()\n",
    "# group_1 = group.filter_by(SubjectGroup.description == 'Female Surrey')\n",
    "# group_1 = group.filter(SubjectGroup.repositories == 'ZENODO')\n",
    "print(group_1)\n",
    "group_1.project_id\n",
    "# print(group_1.project_id, \n",
    "#       group_1.description,\n",
    "#       group_1.repositories)"
   ]
  },
  {
   "cell_type": "markdown",
   "metadata": {},
   "source": [
    "## Tikinter Form"
   ]
  },
  {
   "cell_type": "code",
   "execution_count": 38,
   "metadata": {},
   "outputs": [],
   "source": [
    "# Why is my Button's command executed immediately when I create the Button, and not when I click it?\n",
    "# https://stackoverflow.com/questions/5767228/why-is-my-buttons-command-executed-immediately-when-i-create-the-button-and-no\n",
    "\n",
    "from tkinter import *\n",
    "from tkinter import ttk\n",
    "from tkinter import font\n",
    "window = Tk()\n",
    "window.title(\"Interface\")\n",
    "window.geometry('800x600')\n",
    "window.configure(background = \"gray\")\n",
    "\n",
    "def submit_new_record():\n",
    "    fields=(group_id_entry.get(),description_entry.get(),repositories_entry.get(),'\\n')\n",
    "    out_str='\\n'.join(fields)\n",
    "    outarea.insert(END, out_str)   \n",
    "\n",
    "# Define general text size\n",
    "fontsize=15\n",
    "gfont = font.Font(size=fontsize)\n",
    "\n",
    "# Input area LABELS\n",
    "group_id = Label(window, text=\"group_id\", font=gfont)\n",
    "group_id.grid(row=0, column=0, sticky=W)\n",
    "description = Label(window, text=\"Description\", font=gfont)\n",
    "description.grid(row=1, column=0, sticky=W)\n",
    "repositories = Label(window, text=\"Repositories\", font=gfont)\n",
    "repositories.grid(row=2, column=0, sticky=W)\n",
    "\n",
    "# Input area ENTRY\n",
    "group_id_entry = Entry(window, font=gfont)\n",
    "group_id_entry.grid(row=0, column=1, sticky=W)    \n",
    "description_entry = Entry(window, font=gfont)\n",
    "description_entry.grid(row=1, column=1, sticky=W)\n",
    "repositories_entry = Entry(window, font=gfont)\n",
    "repositories_entry.grid(row=2, column=1, sticky=W)\n",
    "\n",
    "# Output area \n",
    "outarea = Text(window, height=20, width=50, font=gfont)\n",
    "outarea.grid(row=4, column=1)\n",
    "\n",
    "\n",
    "# ************** Submit Button ************** #\n",
    "\n",
    "#Create an instance of Style Object\n",
    "style = ttk.Style()\n",
    "#Configure the properties of the Buttons\n",
    "style.configure('submit.TButton', font=(None, fontsize))\n",
    "btn = ttk.Button(window ,text=\"Submit\", style='submit.TButton', command=submit_new_record)\n",
    "btn.grid(row=1,column=3)\n",
    "\n",
    "window.mainloop()"
   ]
  },
  {
   "cell_type": "markdown",
   "metadata": {},
   "source": [
    "## W3 School Example"
   ]
  },
  {
   "cell_type": "code",
   "execution_count": 102,
   "metadata": {
    "jupyter": {
     "source_hidden": true
    }
   },
   "outputs": [],
   "source": [
    "# import openpyxl and tkinter modules\n",
    "from openpyxl import *\n",
    "from tkinter import *\n",
    "\n",
    "# globally declare wb and sheet variable\n",
    "\n",
    "# opening the existing excel file\n",
    "wb = load_workbook('C:\\\\cexcel.xlsx')\n",
    "\n",
    "# create the sheet object\n",
    "sheet = wb.active\n",
    "    \n",
    "\n",
    "def excel():\n",
    "\t\n",
    "\t# resize the width of columns in\n",
    "\t# excel spreadsheet\n",
    "\tsheet.column_dimensions['A'].width = 30\n",
    "\tsheet.column_dimensions['B'].width = 10\n",
    "\tsheet.column_dimensions['C'].width = 10\n",
    "\tsheet.column_dimensions['D'].width = 20\n",
    "\tsheet.column_dimensions['E'].width = 20\n",
    "\tsheet.column_dimensions['F'].width = 40\n",
    "\tsheet.column_dimensions['G'].width = 50\n",
    "\n",
    "\t# write given data to an excel spreadsheet\n",
    "\t# at particular location\n",
    "\tsheet.cell(row=1, column=1).value = \"Name\"\n",
    "\tsheet.cell(row=1, column=2).value = \"Course\"\n",
    "\tsheet.cell(row=1, column=3).value = \"Semester\"\n",
    "\tsheet.cell(row=1, column=4).value = \"Form Number\"\n",
    "\tsheet.cell(row=1, column=5).value = \"Contact Number\"\n",
    "\tsheet.cell(row=1, column=6).value = \"Email id\"\n",
    "\tsheet.cell(row=1, column=7).value = \"Address\"\n",
    "\n",
    "\n",
    "# Function to set focus (cursor)\n",
    "def focus1(event):\n",
    "\t# set focus on the course_field box\n",
    "\tcourse_field.focus_set()\n",
    "\n",
    "\n",
    "# Function to set focus\n",
    "def focus2(event):\n",
    "\t# set focus on the sem_field box\n",
    "\tsem_field.focus_set()\n",
    "\n",
    "\n",
    "# Function to set focus\n",
    "def focus3(event):\n",
    "\t# set focus on the form_no_field box\n",
    "\tform_no_field.focus_set()\n",
    "\n",
    "\n",
    "# Function to set focus\n",
    "def focus4(event):\n",
    "\t# set focus on the contact_no_field box\n",
    "\tcontact_no_field.focus_set()\n",
    "\n",
    "\n",
    "# Function to set focus\n",
    "def focus5(event):\n",
    "\t# set focus on the email_id_field box\n",
    "\temail_id_field.focus_set()\n",
    "\n",
    "\n",
    "# Function to set focus\n",
    "def focus6(event):\n",
    "\t# set focus on the address_field box\n",
    "\taddress_field.focus_set()\n",
    "\n",
    "\n",
    "# Function for clearing the\n",
    "# contents of text entry boxes\n",
    "def clear():\n",
    "\t\n",
    "\t# clear the content of text entry box\n",
    "\tname_field.delete(0, END)\n",
    "\tcourse_field.delete(0, END)\n",
    "\tsem_field.delete(0, END)\n",
    "\tform_no_field.delete(0, END)\n",
    "\tcontact_no_field.delete(0, END)\n",
    "\temail_id_field.delete(0, END)\n",
    "\taddress_field.delete(0, END)\n",
    "\n",
    "\n",
    "# Function to take data from GUI\n",
    "# window and write to an excel file\n",
    "def insert():\n",
    "\t\n",
    "\t# if user not fill any entry\n",
    "\t# then print \"empty input\"\n",
    "\tif (name_field.get() == \"\" and\n",
    "\t\tcourse_field.get() == \"\" and\n",
    "\t\tsem_field.get() == \"\" and\n",
    "\t\tform_no_field.get() == \"\" and\n",
    "\t\tcontact_no_field.get() == \"\" and\n",
    "\t\temail_id_field.get() == \"\" and\n",
    "\t\taddress_field.get() == \"\"):\n",
    "\t\t\t\n",
    "\t\tprint(\"empty input\")\n",
    "\n",
    "\telse:\n",
    "\n",
    "\t\t# assigning the max row and max column\n",
    "\t\t# value upto which data is written\n",
    "\t\t# in an excel sheet to the variable\n",
    "\t\tcurrent_row = sheet.max_row\n",
    "\t\tcurrent_column = sheet.max_column\n",
    "\n",
    "\t\t# get method returns current text\n",
    "\t\t# as string which we write into\n",
    "\t\t# excel spreadsheet at particular location\n",
    "\t\tsheet.cell(row=current_row + 1, column=1).value = name_field.get()\n",
    "\t\tsheet.cell(row=current_row + 1, column=2).value = course_field.get()\n",
    "\t\tsheet.cell(row=current_row + 1, column=3).value = sem_field.get()\n",
    "\t\tsheet.cell(row=current_row + 1, column=4).value = form_no_field.get()\n",
    "\t\tsheet.cell(row=current_row + 1, column=5).value = contact_no_field.get()\n",
    "\t\tsheet.cell(row=current_row + 1, column=6).value = email_id_field.get()\n",
    "\t\tsheet.cell(row=current_row + 1, column=7).value = address_field.get()\n",
    "\n",
    "\t\t# save the file\n",
    "\t\twb.save('C:\\\\cexcel.xlsx')\n",
    "\n",
    "\t\t# set focus on the name_field box\n",
    "\t\tname_field.focus_set()\n",
    "\n",
    "\t\t# call the clear() function\n",
    "\t\tclear()\n",
    "\n",
    "\n",
    "# Driver code\n",
    "if __name__ == \"__main__\":\n",
    "\t\n",
    "\t# create a GUI window\n",
    "\troot = Tk()\n",
    "\n",
    "\t# set the background colour of GUI window\n",
    "\troot.configure(background='light green')\n",
    "\n",
    "\t# set the title of GUI window\n",
    "\troot.title(\"registration form\")\n",
    "\n",
    "\t# set the configuration of GUI window\n",
    "\troot.geometry(\"500x300\")\n",
    "\n",
    "\texcel()\n",
    "\n",
    "\t# create a Form label\n",
    "\theading = Label(root, text=\"Form\", bg=\"light green\")\n",
    "\n",
    "\t# create a Name label\n",
    "\tname = Label(root, text=\"Name\", bg=\"light green\")\n",
    "\n",
    "\t# create a Course label\n",
    "\tcourse = Label(root, text=\"Course\", bg=\"light green\")\n",
    "\n",
    "\t# create a Semester label\n",
    "\tsem = Label(root, text=\"Semester\", bg=\"light green\")\n",
    "\n",
    "\t# create a Form No. label\n",
    "\tform_no = Label(root, text=\"Form No.\", bg=\"light green\")\n",
    "\n",
    "\t# create a Contact No. label\n",
    "\tcontact_no = Label(root, text=\"Contact No.\", bg=\"light green\")\n",
    "\n",
    "\t# create a Email id label\n",
    "\temail_id = Label(root, text=\"Email id\", bg=\"light green\")\n",
    "\n",
    "\t# create a address label\n",
    "\taddress = Label(root, text=\"Address\", bg=\"light green\")\n",
    "\n",
    "\t# grid method is used for placing\n",
    "\t# the widgets at respective positions\n",
    "\t# in table like structure .\n",
    "\theading.grid(row=0, column=1)\n",
    "\tname.grid(row=1, column=0)\n",
    "\tcourse.grid(row=2, column=0)\n",
    "\tsem.grid(row=3, column=0)\n",
    "\tform_no.grid(row=4, column=0)\n",
    "\tcontact_no.grid(row=5, column=0)\n",
    "\temail_id.grid(row=6, column=0)\n",
    "\taddress.grid(row=7, column=0)\n",
    "\n",
    "\t# create a text entry box\n",
    "\t# for typing the information\n",
    "\tname_field = Entry(root)\n",
    "\tcourse_field = Entry(root)\n",
    "\tsem_field = Entry(root)\n",
    "\tform_no_field = Entry(root)\n",
    "\tcontact_no_field = Entry(root)\n",
    "\temail_id_field = Entry(root)\n",
    "\taddress_field = Entry(root)\n",
    "\n",
    "\t# bind method of widget is used for\n",
    "\t# the binding the function with the events\n",
    "\n",
    "\t# whenever the enter key is pressed\n",
    "\t# then call the focus1 function\n",
    "\tname_field.bind(\"<Return>\", focus1)\n",
    "\n",
    "\t# whenever the enter key is pressed\n",
    "\t# then call the focus2 function\n",
    "\tcourse_field.bind(\"<Return>\", focus2)\n",
    "\n",
    "\t# whenever the enter key is pressed\n",
    "\t# then call the focus3 function\n",
    "\tsem_field.bind(\"<Return>\", focus3)\n",
    "\n",
    "\t# whenever the enter key is pressed\n",
    "\t# then call the focus4 function\n",
    "\tform_no_field.bind(\"<Return>\", focus4)\n",
    "\n",
    "\t# whenever the enter key is pressed\n",
    "\t# then call the focus5 function\n",
    "\tcontact_no_field.bind(\"<Return>\", focus5)\n",
    "\n",
    "\t# whenever the enter key is pressed\n",
    "\t# then call the focus6 function\n",
    "\temail_id_field.bind(\"<Return>\", focus6)\n",
    "\n",
    "\t# grid method is used for placing\n",
    "\t# the widgets at respective positions\n",
    "\t# in table like structure .\n",
    "\tname_field.grid(row=1, column=1, ipadx=\"100\")\n",
    "\tcourse_field.grid(row=2, column=1, ipadx=\"100\")\n",
    "\tsem_field.grid(row=3, column=1, ipadx=\"100\")\n",
    "\tform_no_field.grid(row=4, column=1, ipadx=\"100\")\n",
    "\tcontact_no_field.grid(row=5, column=1, ipadx=\"100\")\n",
    "\temail_id_field.grid(row=6, column=1, ipadx=\"100\")\n",
    "\taddress_field.grid(row=7, column=1, ipadx=\"100\")\n",
    "\n",
    "\t# call excel function\n",
    "\texcel()\n",
    "\n",
    "\t# create a Submit Button and place into the root window\n",
    "\tsubmit = Button(root, text=\"Submit\", fg=\"Black\",\n",
    "\t\t\t\t\t\t\tbg=\"Red\", command=insert)\n",
    "\tsubmit.grid(row=8, column=1)\n",
    "\n",
    "\t# start the GUI\n",
    "\troot.mainloop()\n"
   ]
  },
  {
   "cell_type": "markdown",
   "metadata": {},
   "source": [
    "This is a really simple form built using tkinter, it allows to input client data and save it in a database.\n",
    "https://github.com/EmaSMach/tkinter-form/commit/6c3400f47f5bb01e654177cba01db3ece49674d3"
   ]
  },
  {
   "cell_type": "code",
   "execution_count": null,
   "metadata": {},
   "outputs": [],
   "source": []
  }
 ],
 "metadata": {
  "kernelspec": {
   "display_name": "Python 3",
   "language": "python",
   "name": "python3"
  },
  "language_info": {
   "codemirror_mode": {
    "name": "ipython",
    "version": 3
   },
   "file_extension": ".py",
   "mimetype": "text/x-python",
   "name": "python",
   "nbconvert_exporter": "python",
   "pygments_lexer": "ipython3",
   "version": "3.8.5"
  }
 },
 "nbformat": 4,
 "nbformat_minor": 4
}
